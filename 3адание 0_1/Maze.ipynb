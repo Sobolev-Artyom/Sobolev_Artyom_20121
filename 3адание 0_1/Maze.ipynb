{
 "cells": [
  {
   "cell_type": "code",
   "execution_count": null,
   "metadata": {},
   "outputs": [],
   "source": [
    "def main():\n",
    "    maze = [\"########\",\n",
    "        \"# # ####\",\n",
    "        \"# #N#   \",\n",
    "        \"# # # ##\",\n",
    "        \"# # # ##\",\n",
    "        \"#      #\",\n",
    "        \"########\"]\n",
    "\n",
    "    def has_exit(board):\n",
    "        def make(i, j, visited=None):\n",
    "            if not visited:\n",
    "                visited = []\n",
    "            if [i, j] in visited or not (0 <= i < len(board) and 0 <= j < len(board[0])) or board[i][j] == \"#\" :\n",
    "                return False\n",
    "            visited.append([i, j])\n",
    "            if i == 0 or j == 0 or i == len(board) - 1 or j == len(board[0]) - 1 :\n",
    "                return True\n",
    "            return any([make(i + 1, j, visited),\n",
    "                        make(i - 1, j, visited),\n",
    "                        make(i, j + 1, visited),\n",
    "                        make(i, j - 1, visited)])\n",
    "        li = [[i, k] for i, j in enumerate(board) for k, l in enumerate(j) if l == 'N']\n",
    "        if len(li)>1:\n",
    "            raise\n",
    "        return make(li[0][0],li[0][1])\n",
    "\n",
    "    print(has_exit(maze))    \n",
    "\n",
    "if __name__ == \"__main__\":\n",
    "    main()    "
   ]
  }
 ],
 "metadata": {
  "language_info": {
   "name": "python"
  },
  "orig_nbformat": 4
 },
 "nbformat": 4,
 "nbformat_minor": 2
}
