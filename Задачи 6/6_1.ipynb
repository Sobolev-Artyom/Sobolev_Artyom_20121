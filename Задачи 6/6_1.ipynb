def main():
    n = int(input())
    arr = list(map(int, input().split()))
    c = int(input())

    stack = []

    close_sum = abs(sum(arr[0:4]) - c)
    close_arr = arr[0:4]
    ind_1 = 0
    ind_2 = 1
    ind_3 = 2
    ind_4 = 3
    while True:
        # Если первый индекс уперся, то закончить перебор
        if ind_1 == len(arr) - 3 :
            break;

        summ = arr[ind_1] + arr[ind_2] + arr[ind_3] + arr[ind_4]
        # Проверка сумм
        if abs(summ - c) < close_sum:
            close_sum = summ - c
            close_arr = [arr[ind_1], arr[ind_2], arr[ind_3], arr[ind_4]]

            if close_sum == 0:
                break

if __name__=="__main__":
    main()
