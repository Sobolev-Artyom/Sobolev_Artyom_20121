{
 "cells": [
  {
   "cell_type": "code",
   "execution_count": null,
   "metadata": {},
   "outputs": [],
   "source": [
    "def main():\n",
    "    n = int(input())\n",
    "    arr = list(map(int, input().split()))\n",
    "    c = int(input())\n",
    "\n",
    "    stack = []\n",
    "\n",
    "    close_sum = abs(sum(arr[0:4]) - c)\n",
    "    close_arr = arr[0:4]\n",
    "    ind_1 = 0\n",
    "    ind_2 = 1\n",
    "    ind_3 = 2\n",
    "    ind_4 = 3\n",
    "    while True:\n",
    "        # Если первый индекс уперся, то закончить перебор\n",
    "        if ind_1 == len(arr) - 3 :\n",
    "            break;\n",
    "\n",
    "        summ = arr[ind_1] + arr[ind_2] + arr[ind_3] + arr[ind_4]\n",
    "        # Проверка сумм\n",
    "        if abs(summ - c) < close_sum:\n",
    "            close_sum = summ - c\n",
    "            close_arr = [arr[ind_1], arr[ind_2], arr[ind_3], arr[ind_4]]\n",
    "\n",
    "            if close_sum == 0:\n",
    "                break\n",
    "    \n",
    "    \n",
    "if __name__ =='__main__':\n",
    "    main()\n",
    "\n",
    "\n"
   ]
  }
 ],
 "metadata": {
  "language_info": {
   "name": "python"
  },
  "orig_nbformat": 4
 },
 "nbformat": 4,
 "nbformat_minor": 2
}
