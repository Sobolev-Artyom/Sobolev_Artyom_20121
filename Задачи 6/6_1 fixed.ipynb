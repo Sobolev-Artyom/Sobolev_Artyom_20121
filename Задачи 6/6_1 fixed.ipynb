{
 "cells": [
  {
   "cell_type": "code",
   "execution_count": null,
   "metadata": {},
   "outputs": [],
   "source": [
    "def main():\n",
    "    n = int(input())\n",
    "    arr = list(map(int, input().split()))\n",
    "    c = int(input())\n",
    "\n",
    "    stack = []\n",
    "\n",
    "    close_sum = abs(sum(arr[0:4]) - c)\n",
    "    close_arr = arr[0:4]\n",
    "    ind_1 = 0\n",
    "    ind_2 = 1\n",
    "    ind_3 = 2\n",
    "    ind_4 = 3\n",
    "    while True:\n",
    "        # Если первый индекс уперся, то закончить перебор\n",
    "        if ind_1 == len(arr) - 3 :\n",
    "            break;\n",
    "\n",
    "        summ = arr[ind_1] + arr[ind_2] + arr[ind_3] + arr[ind_4]\n",
    "        # Проверка сумм\n",
    "        if abs(summ - c) < close_sum:\n",
    "            close_sum = summ - c\n",
    "            close_arr = [arr[ind_1], arr[ind_2], arr[ind_3], arr[ind_4]]\n",
    "\n",
    "            if close_sum == 0:\n",
    "                break\n",
    "\n",
    "        # Смещение индексов\n",
    "        ind_4 += 1\n",
    "        ind_3 += int(ind_4 / (len(arr) ))\n",
    "        ind_2 += int(ind_3 / (len(arr) - 1))\n",
    "        ind_1 += int(ind_2 / (len(arr) - 2))\n",
    "        if ind_2 == len(arr)-2:\n",
    "            ind_2 = ind_1 + 1\n",
    "        if ind_3 == len(arr) - 1:\n",
    "            ind_3 = ind_2 + 1\n",
    "        if ind_4 == len(arr):\n",
    "            ind_4 = ind_3 + 1\n",
    "\n",
    "\n",
    "\n",
    "    print(close_arr)\n",
    "    print(sum(close_arr))\n",
    "   \n",
    "   \n",
    "if __name__ =='__main__':\n",
    "    main()\n",
    "\n",
    "\n"
   ]
  }
 ],
 "metadata": {
  "language_info": {
   "name": "python"
  },
  "orig_nbformat": 4
 },
 "nbformat": 4,
 "nbformat_minor": 2
}
