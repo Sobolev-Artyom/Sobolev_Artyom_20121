def main()
    words = ["qwe", "ewq", "asd", "dsa", "dsas", "qwee", "zxc", "cxz", "xxz", "z", "s", "qweasdzxc", "zzxc"]

    res = []
    while len(words) > 0:
        word = words.pop(0)
        group = [word]

        j = 0
        size = len(words)
        while j < size:
            if sorted(list(word)) == sorted(list(words[j])):
                group.append(words[j])
                del words[j]
                size -= 1
                j -= 1
            j += 1

        res.append(group)

print(res)

if __name__ =="__main__":
    main()
