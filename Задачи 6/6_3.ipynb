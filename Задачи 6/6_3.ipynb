{
 "cells": [
  {
   "cell_type": "code",
   "execution_count": null,
   "metadata": {},
   "outputs": [],
   "source": [
    "def main():\n",
    "    words = [\"qwe\", \"ewq\", \"asd\", \"dsa\", \"dsas\", \"qwee\", \"zxc\", \"cxz\", \"xxz\", \"z\", \"s\", \"qweasdzxc\", \"zzxc\"]\n",
    "\n",
    "    res = []\n",
    "    while len(words) > 0:\n",
    "        word = words.pop(0)\n",
    "        group = [word]\n",
    "\n",
    "        j = 0\n",
    "        size = len(words)\n",
    "        while j < size:\n",
    "            if sorted(list(word)) == sorted(list(words[j])):\n",
    "                group.append(words[j])\n",
    "                del words[j]\n",
    "                size -= 1\n",
    "                j -= 1\n",
    "            j += 1\n",
    "\n",
    "        res.append(group)\n",
    "\n",
    "print(res)\n",
    "   \n",
    "if __name__ =='__main__':\n",
    "    main()\n",
    "\n",
    "\n"
   ]
  }
 ],
 "metadata": {
  "language_info": {
   "name": "python"
  },
  "orig_nbformat": 4
 },
 "nbformat": 4,
 "nbformat_minor": 2
}
