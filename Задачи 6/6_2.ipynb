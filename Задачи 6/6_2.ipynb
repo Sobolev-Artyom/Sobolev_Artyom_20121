{
 "cells": [
  {
   "cell_type": "code",
   "execution_count": null,
   "metadata": {},
   "outputs": [],
   "source": [
    "def main():\n",
    "    from itertools import permutations\n",
    "\n",
    "    arr = list(map(int, input().split()))\n",
    "    set_items = set(permutations(arr))\n",
    "    res = []\n",
    "    for item in set_items:\n",
    "        res.append(list(item))\n",
    "\n",
    "    print(res)\n",
    "    \n",
    "if __name__ =='__main__':\n",
    "    main()\n",
    "\n",
    "\n"
   ]
  }
 ],
 "metadata": {
  "language_info": {
   "name": "python"
  },
  "orig_nbformat": 4
 },
 "nbformat": 4,
 "nbformat_minor": 2
}
