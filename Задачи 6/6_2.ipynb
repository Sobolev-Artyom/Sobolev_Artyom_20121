def main()
    from itertools import permutations

    arr = list(map(int, input().split()))
    set_items = set(permutations(arr))
    res = []
    for item in set_items:
        res.append(list(item))

    print(res)


if __name__=="__main__":
    main()
