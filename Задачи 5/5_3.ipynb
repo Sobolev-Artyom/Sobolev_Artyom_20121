{
 "cells": [
  {
   "cell_type": "code",
   "execution_count": null,
   "metadata": {},
   "outputs": [],
   "source": [
    "def main():\n",
    "   def is_correct(string):\n",
    "    valid_combinations = ['{}', '()', '[]']\n",
    "    end = ['}', ']', ')']\n",
    "    start = ['{', '[', '(']\n",
    "    result = []\n",
    "    for i in range(len(string)):\n",
    "        if string[i] in start:\n",
    "            result.append(string[i])\n",
    "            continue\n",
    "        if string[i] in end and result:\n",
    "            if result[-1] + string[i] in valid_combinations:\n",
    "                result.pop()\n",
    "            else:\n",
    "                return False\n",
    "        else:\n",
    "            return False\n",
    "    if result == []:\n",
    "        return True\n",
    "    else:\n",
    "        return False\n",
    "\n",
    "\n",
    "    def ex_3(my_str_2):\n",
    "        all_variants = []\n",
    "        if is_correct(my_str_2):\n",
    "            all_variants.append(my_str_2)\n",
    "            return True\n",
    "        for i in range(1, len(my_str_2)-1):\n",
    "            for j in range(1, len(my_str_2)-1):\n",
    "                if is_correct(my_str_2[i:-j]):\n",
    "                    all_variants.append(my_str_2[i:-j])\n",
    "        if all_variants == []:\n",
    "            return False\n",
    "        else:\n",
    "            return sorted(all_variants, key=lambda x: len(x))[-1]\n",
    "\n",
    "    print(ex_3('{[()]{[()]}}'))\n",
    "\n",
    "if __name__ == '__main__':\n",
    "    main()"
   ]
  }
 ],
 "metadata": {
  "language_info": {
   "name": "python"
  },
  "orig_nbformat": 4
 },
 "nbformat": 4,
 "nbformat_minor": 2
}
