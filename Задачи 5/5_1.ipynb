{
 "cells": [
  {
   "cell_type": "code",
   "execution_count": null,
   "metadata": {},
   "outputs": [],
   "source": [
    "def main():\n",
    "    my_str = 'qweasdfdqw'\n",
    "\n",
    "    def find_not_repeat(my_str):\n",
    "        result = ''\n",
    "        for symbol in my_str:\n",
    "            if symbol not in result:\n",
    "                result += symbol\n",
    "            else:\n",
    "                break\n",
    "        return result\n",
    "\n",
    "    all_variants = []\n",
    "    for i in range(len(my_str)-1):\n",
    "        all_variants.append(find_not_repeat(my_str[i:]))\n",
    "\n",
    "    longest_str = sorted(all_variants, key=lambda x: len(x))[-1]\n",
    "    print(longest_str)\n",
    "\n",
    "if __name__ == '__main__':\n",
    "    main()"
   ]
  }
 ],
 "metadata": {
  "language_info": {
   "name": "python"
  },
  "orig_nbformat": 4
 },
 "nbformat": 4,
 "nbformat_minor": 2
}
