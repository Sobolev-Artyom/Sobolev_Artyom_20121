{
 "cells": [
  {
   "cell_type": "code",
   "execution_count": null,
   "metadata": {},
   "outputs": [],
   "source": [
    "def main():\n",
    "    my_str_1 = \"it     waS     cool  \"\n",
    "    lst = [el for el in my_str_1.split(' ') if el != '']\n",
    "    reverse_lst = [lst[i].lower() for i in range(len(lst)-1, -1, -1)]\n",
    "    result = \" \".join(reverse_lst).capitalize()\n",
    "\n",
    "if __name__ == '__main__':\n",
    "    main()"
   ]
  }
 ],
 "metadata": {
  "language_info": {
   "name": "python"
  },
  "orig_nbformat": 4
 },
 "nbformat": 4,
 "nbformat_minor": 2
}
