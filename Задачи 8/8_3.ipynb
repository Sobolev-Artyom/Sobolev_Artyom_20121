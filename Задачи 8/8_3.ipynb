{
 "cells": [
  {
   "cell_type": "code",
   "execution_count": null,
   "metadata": {},
   "outputs": [],
   "source": [
    "def main():\n",
    "    n = 4\n",
    "    k = 9\n",
    "\n",
    "    def S(n, k):\n",
    "        if n == k:\n",
    "            return 1\n",
    "        elif k == 0:\n",
    "            return 0\n",
    "        elif 0 < k and k <= n:\n",
    "            return S(n - 1, k - 1) + k * S(n - 1, k)\n",
    "\n",
    "    print(S(15, 9))\n",
    "\n",
    "if __name__ == \"__main__\":\n",
    "    main()    "
   ]
  }
 ],
 "metadata": {
  "language_info": {
   "name": "python"
  },
  "orig_nbformat": 4
 },
 "nbformat": 4,
 "nbformat_minor": 2
}
