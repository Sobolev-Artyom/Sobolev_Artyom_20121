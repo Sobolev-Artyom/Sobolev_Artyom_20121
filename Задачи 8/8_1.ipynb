{
 "cells": [
  {
   "cell_type": "code",
   "execution_count": null,
   "metadata": {},
   "outputs": [],
   "source": [
    "def main():\n",
    "    def abc(list1,list2):\n",
    "        a =set(list1)\n",
    "        b =set(list2)\n",
    "        ans1 = a.intersection(b)\n",
    "        ans2 = a.symmetric_difference(b)\n",
    "        ans3 = a.difference(b)\n",
    "        ans4 = b.difference(a)\n",
    "        return (print(len(ans1),len(ans2),len(ans3),len(ans4)))\n",
    "\n",
    "    if __name__ == \"__main__\":\n",
    "        list1,list2 = [0, 33, 37, 6, 10, 44, 13, 47, 16, 18, 22, 25],[1, 38, 48, 8, 41, 7, 12, 47, 16, 40, 20, 23, 25]\n",
    "    abc(list1,list2)\n"
   ]
  }
 ],
 "metadata": {
  "language_info": {
   "name": "python"
  },
  "orig_nbformat": 4
 },
 "nbformat": 4,
 "nbformat_minor": 2
}
