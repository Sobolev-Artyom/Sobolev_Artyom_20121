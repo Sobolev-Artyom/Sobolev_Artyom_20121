{
 "cells": [
  {
   "cell_type": "code",
   "execution_count": null,
   "metadata": {},
   "outputs": [],
   "source": [
    "def main():\n",
    "    import itertools\n",
    "    r = []\n",
    "    stuff = [1,2,3,4]\n",
    "    for t in range(1, len(stuff) + 1):\n",
    "        for subset in itertools.combinations(stuff, t):\n",
    "            f = set(subset)\n",
    "            r.append(f)\n",
    "    print(r, len(r))\n",
    "\n",
    "if __name__==\"__main__\":\n",
    "    main() \n"
   ]
  }
 ],
 "metadata": {
  "language_info": {
   "name": "python"
  },
  "orig_nbformat": 4
 },
 "nbformat": 4,
 "nbformat_minor": 2
}
