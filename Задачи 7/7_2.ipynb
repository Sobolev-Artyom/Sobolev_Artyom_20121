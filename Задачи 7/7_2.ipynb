{
 "cells": [
  {
   "cell_type": "code",
   "execution_count": null,
   "metadata": {},
   "outputs": [],
   "source": [
    "def main():\n",
    "    mat = [\n",
    "    [1, 2, 3, 4],\n",
    "    [5, 6, 7, 8],\n",
    "    [9, 10, 11, 12],\n",
    "    [13, 14, 15, 16]\n",
    "    ]\n",
    "\n",
    "    t_mat = [[0 for x in range(len(mat))] for i in range(len(mat[0])) ]\n",
    "\n",
    "    for i in range(len(mat)):\n",
    "        for j in range(len(mat)):\n",
    "            t_mat[j][i] = mat[i][j]\n",
    "\n",
    "    mat = reversed(t_mat)\n",
    "\n",
    "    for row in mat:\n",
    "        print(row)\n",
    "    \n",
    "   \n",
    "   \n",
    "if __name__ =='__main__':\n",
    "    main()\n",
    "\n",
    "\n"
   ]
  }
 ],
 "metadata": {
  "language_info": {
   "name": "python"
  },
  "orig_nbformat": 4
 },
 "nbformat": 4,
 "nbformat_minor": 2
}
