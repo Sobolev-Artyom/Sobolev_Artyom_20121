def main()
    mat = [
        [1, 2, 3, 4],
        [5, 6, 7, 8],
        [9, 10, 11, 12],
        [13, 14, 15, 16]
    ]

    t_mat = [[0 for x in range(len(mat))] for i in range(len(mat[0])) ]

    for i in range(len(mat)):
        for j in range(len(mat)):
            t_mat[j][i] = mat[i][j]

    mat = reversed(t_mat)

    for row in mat:
        print(row)
        
if __name__=="__main__":
    main()
