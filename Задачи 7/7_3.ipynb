{
 "cells": [
  {
   "cell_type": "code",
   "execution_count": null,
   "metadata": {},
   "outputs": [],
   "source": [
    "def main():\n",
    "    mat = [\n",
    "    [1, 2, 3, 13],\n",
    "    [8, 9, 4, 14],\n",
    "    [7, 6, 5, 15]\n",
    "    ]\n",
    "\n",
    "    k = 0\n",
    "    l = 0\n",
    "    m = len(mat)\n",
    "    n = len(mat[0])\n",
    "    while (k < m and l < n):\n",
    "        # Верхняя строка\n",
    "        for i in range(l, n):\n",
    "            print(mat[k][i], end=\" \")\n",
    "        k += 1\n",
    "\n",
    "        # Правая колонка\n",
    "        for i in range(k, m):\n",
    "            print(mat[i][n - 1], end=\" \")\n",
    "        n -= 1\n",
    "\n",
    "        # Нижняя строка\n",
    "        if (k < m):\n",
    "            for i in range(n - 1, (l - 1), -1):\n",
    "                print(mat[m - 1][i], end=\" \")\n",
    "            m -= 1\n",
    "\n",
    "        # Левая колонка\n",
    "        if (l < n):\n",
    "            for i in range(m - 1, k - 1, -1):\n",
    "                print(mat[i][l], end=\" \")\n",
    "            l += 1\n",
    "   \n",
    "   \n",
    "if __name__ =='__main__':\n",
    "    main()\n",
    "\n",
    "\n"
   ]
  }
 ],
 "metadata": {
  "language_info": {
   "name": "python"
  },
  "orig_nbformat": 4
 },
 "nbformat": 4,
 "nbformat_minor": 2
}
