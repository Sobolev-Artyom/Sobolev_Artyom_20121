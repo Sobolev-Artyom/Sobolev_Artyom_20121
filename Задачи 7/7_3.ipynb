
    mat = [
    [1, 2, 3, 13],
    [8, 9, 4, 14],
    [7, 6, 5, 15]
    ]

    k = 0
    l = 0
    m = len(mat)
    n = len(mat[0])
    while (k < m and l < n):
        # Верхняя строка
        for i in range(l, n):
            print(mat[k][i], end=" ")
        k += 1

        # Правая колонка
        for i in range(k, m):
        print(mat[i][n - 1], end=" ")
        n -= 1

        # Нижняя строка
        if (k < m):
            for i in range(n - 1, (l - 1), -1):
                print(mat[m - 1][i], end=" ")
            m -= 1

        # Левая колонка
        if (l < n):
            for i in range(m - 1, k - 1, -1):
                print(mat[i][l], end=" ")
            l += 1


if __name__=="__main__":
    main()
