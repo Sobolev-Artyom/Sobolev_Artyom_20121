{
 "cells": [
  {
   "cell_type": "code",
   "execution_count": null,
   "metadata": {},
   "outputs": [],
   "source": [
    "def main()\n",
    "    val = input()\n",
    "    num_list = list(map(int, val))\n",
    "    is_polindrom = True\n",
    "\n",
    "    size = int(len(num_list))\n",
    "    for i in range(0, int(size / 2)):\n",
    "        if num_list[i] != num_list[size - i-1]:\n",
    "            is_polindrom = False\n",
    "            break\n",
    "\n",
    "    if is_polindrom:\n",
    "        print(\"True\")\n",
    "    else:\n",
    "        print(\"False\")\n",
    "\n",
    "if __name__ =='__main__':\n",
    "    main()\n",
    "\n",
    "\n"
   ]
  }
 ],
 "metadata": {
  "language_info": {
   "name": "python"
  },
  "orig_nbformat": 4
 },
 "nbformat": 4,
 "nbformat_minor": 2
}
