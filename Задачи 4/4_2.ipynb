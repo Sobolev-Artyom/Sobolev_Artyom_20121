{
 "cells": [
  {
   "cell_type": "code",
   "execution_count": null,
   "metadata": {},
   "outputs": [],
   "source": [
    "def main():\n",
    "    CHAR_MIN = -2**7       \n",
    "    CHAR_MAX = 2**7 - 1    \n",
    "\n",
    "    val = int(input())     \n",
    "\n",
    "    num_list = list(map(int, str(abs(val))))     \n",
    "    num_list.reverse()                           \n",
    "    rev_val = int(''.join(map(str,num_list)))    \n",
    "    if val < 0:\n",
    "       rev_val *= -1      \n",
    "\n",
    "    if rev_val < CHAR_MIN or CHAR_MAX < rev_val: \n",
    "        print(\"no solution\")\n",
    "    else:\n",
    "        print(rev_val) \n",
    "    \n",
    "if __name__ =='__main__':\n",
    "    main()\n",
    "\n",
    "\n"
   ]
  }
 ],
 "metadata": {
  "language_info": {
   "name": "python"
  },
  "orig_nbformat": 4
 },
 "nbformat": 4,
 "nbformat_minor": 2
}
