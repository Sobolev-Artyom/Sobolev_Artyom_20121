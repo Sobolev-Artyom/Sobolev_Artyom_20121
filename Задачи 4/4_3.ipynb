{
 "cells": [
  {
   "cell_type": "code",
   "execution_count": null,
   "metadata": {},
   "outputs": [],
   "source": [
    "def main():\n",
    "    def print_zigzag(string, k): \n",
    "         if k == 0:\n",
    "             return \n",
    "\n",
    "         if k == 1:\n",
    "             print(string) \n",
    "\n",
    "         # Первая строка\n",
    "         for i in range(0, len(string), (k - 1) * 2): \n",
    "             print(string[i], end='')\n",
    "\n",
    "         # Средние строки\n",
    "         for i in range(1, k-1): \n",
    "             is_down = True         \n",
    "             j = i\n",
    "             while j < len(string):    \n",
    "                 print(string[j], end=\"\")  \n",
    "                 space = 0\n",
    "                 if is_down:\n",
    "                     space = (k - i - 1) * 2  \n",
    "                 else:\n",
    "                     space = (k - 1) * 2 - (k - i - 1) * 2  \n",
    "                 j += space\n",
    "                 is_down = not is_down  \n",
    "\n",
    "         # Последняя строка\n",
    "         for i in range(k-1, len(string), (k-1) * 2):  \n",
    "             print(string[i], end='')\n",
    "\n",
    "\n",
    "     string = input()  \n",
    "     k = int(input())\n",
    "\n",
    "     print_zigzag(string, k)  \n",
    "    \n",
    "    \n",
    "if __name__ =='__main__':\n",
    "    main()\n",
    "\n",
    "\n"
   ]
  }
 ],
 "metadata": {
  "language_info": {
   "name": "python"
  },
  "orig_nbformat": 4
 },
 "nbformat": 4,
 "nbformat_minor": 2
}
