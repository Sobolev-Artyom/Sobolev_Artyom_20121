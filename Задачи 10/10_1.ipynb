{
 "cells": [
  {
   "cell_type": "code",
   "execution_count": null,
   "metadata": {},
   "outputs": [],
   "source": [
    "def main():\n",
    "    import numpy as np\n",
    "    import matplotlib.pyplot as plt\n",
    "\n",
    "\n",
    "    def f(x):\n",
    "        return ((2 * x ** 2 - 3 * x + 7) * np.cos((x ** 2) / 2 + 7))\n",
    "\n",
    "\n",
    "    x1 = np.linspace(0, 5.0, 100000)\n",
    "\n",
    "    fig, ax = plt.subplots()\n",
    "    ax.plot(x1, f(x1))\n",
    "\n",
    "    plt.savefig('p.png')\n",
    "    plt.show()\n",
    "\n",
    "if __name__==\"__main__\":\n",
    "    main() \n"
   ]
  }
 ],
 "metadata": {
  "language_info": {
   "name": "python"
  },
  "orig_nbformat": 4
 },
 "nbformat": 4,
 "nbformat_minor": 2
}
