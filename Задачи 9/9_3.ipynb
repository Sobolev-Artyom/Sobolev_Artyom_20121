{
 "cells": [
  {
   "cell_type": "code",
   "execution_count": null,
   "metadata": {},
   "outputs": [],
   "source": [
    "def main():\n",
    "    pins_dict = {'1': ['1', '2', '4'],\n",
    "             '2': ['2', '1', '5', '3'],\n",
    "             '3': ['3', '2', '6'],\n",
    "             '4': ['4', '1', '5', '7'],\n",
    "             '5': ['2', '5', '6', '4', '8'],\n",
    "             '6': ['6', '3', '5', '9'],\n",
    "             '7': ['7', '4', '8'],\n",
    "             '8': ['8', '5', '9', '0', '7'],\n",
    "             '9': ['9', '6', '8'],\n",
    "             '0': ['0', '8']}\n",
    "\n",
    "\n",
    "    def get_pins(pin):\n",
    "        if len(pin) > 1:\n",
    "            all_variants = []\n",
    "            for close_digit in pins_dict[pin[0]]: #pins_dict['8'] - > ['8', '5', '9', '0', '7']\n",
    "                for digit in get_pins(pin[1:]):\n",
    "                    all_variants.append(digit + close_digit)\n",
    "            print(all_variants)\n",
    "            return all_variants\n",
    "        else:\n",
    "            return pins_dict[pin]\n",
    "\n",
    "    print(get_pins('11'))\n",
    "\n",
    "\n",
    "\n",
    "if __name__ =='__main__':\n",
    "    main()\n",
    "\n",
    "\n",
    "\n",
    "\n",
    "\n"
   ]
  }
 ],
 "metadata": {
  "language_info": {
   "name": "python"
  },
  "orig_nbformat": 4
 },
 "nbformat": 4,
 "nbformat_minor": 2
}
