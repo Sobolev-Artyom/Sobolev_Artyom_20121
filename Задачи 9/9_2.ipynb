{
 "cells": [
  {
   "cell_type": "code",
   "execution_count": null,
   "metadata": {},
   "outputs": [],
   "source": [
    "def main():\n",
    "    roma_arab_dict = {\n",
    "    'I': 1,\n",
    "    'V': 5,\n",
    "    'X': 10,\n",
    "    'L': 50,\n",
    "    'C': 100,\n",
    "    'D': 500,\n",
    "    'M': 1000\n",
    "    }\n",
    "\n",
    "    def from_roma_to_arab(string_number, roma_arab_dict):\n",
    "        if len(string_number) > 15 and len(string_number) < 1:\n",
    "            print(\"Некорректное количество символов\")\n",
    "            return False\n",
    "        for symbol in string_number:\n",
    "            if symbol not in ['I', 'V', 'X', 'L', 'C', 'D', 'M']:\n",
    "                print(\"Некорректный символ\")\n",
    "                return False\n",
    "\n",
    "        res_arab = 0\n",
    "        for index, symbol in enumerate(string_number):\n",
    "            if index == len(string_number)-1 or roma_arab_dict[symbol] >= roma_arab_dict[string_number[index+1]]:\n",
    "                res_arab += roma_arab_dict[symbol]\n",
    "            else:\n",
    "                res_arab -= roma_arab_dict[symbol]\n",
    "        return res_arab\n",
    "\n",
    "    print(from_roma_to_arab('MCMXCIV', roma_arab_dict))\n",
    "\n",
    "\n",
    "if __name__ =='__main__':\n",
    "    main()\n",
    "\n",
    "\n",
    "\n",
    "\n",
    "\n"
   ]
  }
 ],
 "metadata": {
  "language_info": {
   "name": "python"
  },
  "orig_nbformat": 4
 },
 "nbformat": 4,
 "nbformat_minor": 2
}
