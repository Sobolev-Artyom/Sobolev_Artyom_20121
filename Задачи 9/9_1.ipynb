{
 "cells": [
  {
   "cell_type": "code",
   "execution_count": null,
   "metadata": {},
   "outputs": [],
   "source": [
    "def main():\n",
    "    spisok = [['oleg pushkin',89765],['kirill mendeleev',54378],['john kun'],['ivan popov',98745]]\n",
    "\n",
    "\n",
    "\n",
    "    def santa_users(massive):\n",
    "        bumagka = {}\n",
    "        for place in massive:\n",
    "            if len(place)==2:\n",
    "                bumagka[place[0]] = place[1]\n",
    "            else:\n",
    "                bumagka[place[0]] = None\n",
    "            return spisok\n",
    "\n",
    "    print(santa_users(spisok))\n",
    "\n",
    "if __name__ == '__main__':\n",
    "    main()\n",
    "    \n",
    "\n"
   ]
  }
 ],
 "metadata": {
  "language_info": {
   "name": "python"
  },
  "orig_nbformat": 4
 },
 "nbformat": 4,
 "nbformat_minor": 2
}
