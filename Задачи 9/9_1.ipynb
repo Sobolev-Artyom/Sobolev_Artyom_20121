{
 "cells": [
  {
   "cell_type": "code",
   "execution_count": null,
   "metadata": {},
   "outputs": [],
   "source": [
    "def main():\n",
    "    spisok = [['Oleg C', 89765], ['Kirill B', 54378], ['John A'], ['Ivan P', 98745]] \n",
    " \n",
    "    def santa_users(spisok): \n",
    "        bumagka = {} \n",
    "        for place in spisok: \n",
    "            if len(place) == 2: \n",
    "                bumagka[place[0]] = place[1] \n",
    "            if len(place) == 1: \n",
    "                bumagka[place[0]] = None \n",
    "        return bumagka \n",
    "\n",
    "    print(santa_users(spisok))\n",
    "   \n",
    "\n",
    "if __name__ == \"__main__\":\n",
    "    main()    "
   ]
  }
 ],
 "metadata": {
  "language_info": {
   "name": "python"
  },
  "orig_nbformat": 4
 },
 "nbformat": 4,
 "nbformat_minor": 2
}
