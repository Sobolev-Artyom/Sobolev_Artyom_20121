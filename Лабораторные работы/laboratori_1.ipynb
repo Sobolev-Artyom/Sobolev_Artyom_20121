{
 "cells": [
  {
   "cell_type": "code",
   "execution_count": null,
   "metadata": {},
   "outputs": [],
   "source": [
    "def read_file(file_lab_1):\n",
    "    with open(file_lab_1) as f:\n",
    "        text = f.read()\n",
    "    return [int(i) for i in list(text) if i != ' ']\n",
    "\n",
    "\n",
    "def write_file(file_lab_1, text_to_write):\n",
    "    with open(file_lab_1, 'w') as f:\n",
    "        f.write(text_to_write)\n",
    "\n",
    "data = read_file(\"file_lab_1.txt\")\n",
    "\n",
    "\n",
    "def recursion(idx, N, S, itog_sum, X, sums_sequence, signs):\n",
    "    if idx == N-1:\n",
    "        if itog_sum == S:\n",
    "            return True\n",
    "        else:\n",
    "            return False\n",
    "    if itog_sum + X[idx+1] - sums_sequence[idx+2] <= S:\n",
    "        signs[idx] = '+'\n",
    "        r = recursion(idx+1, N, S, itog_sum+X[idx+1], X, sums_sequence, signs)\n",
    "        if r:\n",
    "            return True\n",
    "    if itog_sum - X[idx+1] + sums_sequence[idx+2] >= S:\n",
    "        signs[idx] = '-'\n",
    "        r = recursion(idx+1, N, S, itog_sum - X[idx+1], X, sums_sequence, signs)\n",
    "        if r:\n",
    "            return True\n",
    "    return False\n",
    "\n",
    "N = data[0]\n",
    "S = data[-1]\n",
    "X = data[1:-1]\n",
    "\n",
    "signs = ['']*N # список со знаками\n",
    "itog_sum = X[0]\n",
    "sums_sequence = [sum(X[i:]) for i in range(N)] + [0]\n",
    "\n",
    "\n",
    "r = recursion(0, N, S, itog_sum, X, sums_sequence, signs)\n",
    "if r:\n",
    "    result = ''.join([f'{X[i]}{signs[i]}' for i in range(N)]) + f'={S}'\n",
    "    write_file('result.txt', result)\n",
    "else:\n",
    "    write_file('result.txt', 'No solution')\n",
    "\n"
   ]
  }
 ],
 "metadata": {
  "language_info": {
   "name": "python"
  },
  "orig_nbformat": 4
 },
 "nbformat": 4,
 "nbformat_minor": 2
}
